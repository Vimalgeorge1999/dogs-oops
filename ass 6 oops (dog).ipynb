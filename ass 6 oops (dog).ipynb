{
 "cells": [
  {
   "cell_type": "code",
   "execution_count": 24,
   "id": "36e41dbb",
   "metadata": {},
   "outputs": [
    {
     "name": "stdout",
     "output_type": "stream",
     "text": [
      "name of the dog is: DANNY\n",
      "age of the dog is: 12\n",
      "coaltclour of the dog is: BLACK\n",
      "None\n",
      "height of the dog is: 120\n",
      "weight of the dog is: 56\n",
      "None\n",
      "origin of the dog is africa\n",
      "None\n",
      "black\n"
     ]
    }
   ],
   "source": [
    "class dog:\n",
    "    def __init__(self,name,age,coatcolour):\n",
    "        self.name=name\n",
    "        self.age=age\n",
    "        self.coatcolour=coatcolour\n",
    "    def description(self):\n",
    "        print(\"name of the dog is:\", self.name )\n",
    "        print(\"age of the dog is:\" ,self.age)  \n",
    "        print(\"coaltclour of the dog is:\",self.coatcolour )\n",
    "    def getinfo(self):\n",
    "        return self.coatcolour\n",
    "class jackrussellterreir(dog):\n",
    "    def __init__(self,name,age,coatcolour,height,weight):\n",
    "        super().__init__(name,age,coatcolour)\n",
    "        self.height=height\n",
    "        self.weight=weight\n",
    "    def information(self):\n",
    "        print(\"height of the dog is:\",self.height) \n",
    "        print(\"weight of the dog is:\",self.weight )\n",
    "class Bulldog(dog):\n",
    "    def __init__(self,country):\n",
    "        self.country=country\n",
    "    def origin(self):\n",
    "        print(\"origin of the dog is\",self.country)\n",
    "d=dog(\"DANNY\",12,\"BLACK\")\n",
    "print(d.description())\n",
    "j=jackrussellterreir(\"danny\",12,\"black\",120,56)\n",
    "print(j.information())\n",
    "b=Bulldog('africa')\n",
    "print(b.origin())\n",
    "print(j.getinfo())\n",
    "        "
   ]
  },
  {
   "cell_type": "code",
   "execution_count": null,
   "id": "704248c4",
   "metadata": {},
   "outputs": [],
   "source": []
  }
 ],
 "metadata": {
  "kernelspec": {
   "display_name": "Python 3 (ipykernel)",
   "language": "python",
   "name": "python3"
  },
  "language_info": {
   "codemirror_mode": {
    "name": "ipython",
    "version": 3
   },
   "file_extension": ".py",
   "mimetype": "text/x-python",
   "name": "python",
   "nbconvert_exporter": "python",
   "pygments_lexer": "ipython3",
   "version": "3.11.0"
  }
 },
 "nbformat": 4,
 "nbformat_minor": 5
}
